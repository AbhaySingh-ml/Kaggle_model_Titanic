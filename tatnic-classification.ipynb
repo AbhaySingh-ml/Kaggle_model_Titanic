{
 "cells": [
  {
   "cell_type": "code",
   "execution_count": 1,
   "id": "bcd9805c",
   "metadata": {
    "_cell_guid": "b1076dfc-b9ad-4769-8c92-a6c4dae69d19",
    "_uuid": "8f2839f25d086af736a60e9eeb907d3b93b6e0e5",
    "execution": {
     "iopub.execute_input": "2025-05-04T11:03:00.674815Z",
     "iopub.status.busy": "2025-05-04T11:03:00.674473Z",
     "iopub.status.idle": "2025-05-04T11:03:05.098348Z",
     "shell.execute_reply": "2025-05-04T11:03:05.097315Z"
    },
    "papermill": {
     "duration": 4.430767,
     "end_time": "2025-05-04T11:03:05.100222",
     "exception": false,
     "start_time": "2025-05-04T11:03:00.669455",
     "status": "completed"
    },
    "tags": []
   },
   "outputs": [
    {
     "name": "stdout",
     "output_type": "stream",
     "text": [
      "/kaggle/input/titanic/train.csv\n",
      "/kaggle/input/titanic/test.csv\n",
      "/kaggle/input/titanic/gender_submission.csv\n"
     ]
    }
   ],
   "source": [
    "# This Python 3 environment comes with many helpful analytics libraries installed\n",
    "# It is defined by the kaggle/python Docker image: https://github.com/kaggle/docker-python\n",
    "# For example, here's several helpful packages to load\n",
    "\n",
    "import numpy as np # linear algebra\n",
    "import pandas as pd # data processing, CSV file I/O (e.g. pd.read_csv)\n",
    "from sklearn.ensemble import RandomForestClassifier\n",
    "# Input data files are available in the read-only \"../input/\" directory\n",
    "# For example, running this (by clicking run or pressing Shift+Enter) will list all files under the input directory\n",
    "\n",
    "import os\n",
    "for dirname, _, filenames in os.walk('/kaggle/input'):\n",
    "    for filename in filenames:\n",
    "        print(os.path.join(dirname, filename))\n",
    "\n",
    "# You can write up to 20GB to the current directory (/kaggle/working/) that gets preserved as output when you create a version using \"Save & Run All\" \n",
    "# You can also write temporary files to /kaggle/temp/, but they won't be saved outside of the current session"
   ]
  },
  {
   "cell_type": "code",
   "execution_count": 2,
   "id": "63059aa0",
   "metadata": {
    "execution": {
     "iopub.execute_input": "2025-05-04T11:03:05.108668Z",
     "iopub.status.busy": "2025-05-04T11:03:05.108110Z",
     "iopub.status.idle": "2025-05-04T11:03:05.132747Z",
     "shell.execute_reply": "2025-05-04T11:03:05.131617Z"
    },
    "papermill": {
     "duration": 0.030871,
     "end_time": "2025-05-04T11:03:05.134650",
     "exception": false,
     "start_time": "2025-05-04T11:03:05.103779",
     "status": "completed"
    },
    "tags": []
   },
   "outputs": [],
   "source": [
    "train_data = pd.read_csv('/kaggle/input/titanic/train.csv')"
   ]
  },
  {
   "cell_type": "code",
   "execution_count": 3,
   "id": "b8953f13",
   "metadata": {
    "execution": {
     "iopub.execute_input": "2025-05-04T11:03:05.142549Z",
     "iopub.status.busy": "2025-05-04T11:03:05.142038Z",
     "iopub.status.idle": "2025-05-04T11:03:05.172690Z",
     "shell.execute_reply": "2025-05-04T11:03:05.171740Z"
    },
    "papermill": {
     "duration": 0.036547,
     "end_time": "2025-05-04T11:03:05.174501",
     "exception": false,
     "start_time": "2025-05-04T11:03:05.137954",
     "status": "completed"
    },
    "tags": []
   },
   "outputs": [
    {
     "name": "stdout",
     "output_type": "stream",
     "text": [
      "Training Data:\n"
     ]
    },
    {
     "data": {
      "text/html": [
       "<div>\n",
       "<style scoped>\n",
       "    .dataframe tbody tr th:only-of-type {\n",
       "        vertical-align: middle;\n",
       "    }\n",
       "\n",
       "    .dataframe tbody tr th {\n",
       "        vertical-align: top;\n",
       "    }\n",
       "\n",
       "    .dataframe thead th {\n",
       "        text-align: right;\n",
       "    }\n",
       "</style>\n",
       "<table border=\"1\" class=\"dataframe\">\n",
       "  <thead>\n",
       "    <tr style=\"text-align: right;\">\n",
       "      <th></th>\n",
       "      <th>PassengerId</th>\n",
       "      <th>Survived</th>\n",
       "      <th>Pclass</th>\n",
       "      <th>Name</th>\n",
       "      <th>Sex</th>\n",
       "      <th>Age</th>\n",
       "      <th>SibSp</th>\n",
       "      <th>Parch</th>\n",
       "      <th>Ticket</th>\n",
       "      <th>Fare</th>\n",
       "      <th>Cabin</th>\n",
       "      <th>Embarked</th>\n",
       "    </tr>\n",
       "  </thead>\n",
       "  <tbody>\n",
       "    <tr>\n",
       "      <th>0</th>\n",
       "      <td>1</td>\n",
       "      <td>0</td>\n",
       "      <td>3</td>\n",
       "      <td>Braund, Mr. Owen Harris</td>\n",
       "      <td>male</td>\n",
       "      <td>22.0</td>\n",
       "      <td>1</td>\n",
       "      <td>0</td>\n",
       "      <td>A/5 21171</td>\n",
       "      <td>7.2500</td>\n",
       "      <td>NaN</td>\n",
       "      <td>S</td>\n",
       "    </tr>\n",
       "    <tr>\n",
       "      <th>1</th>\n",
       "      <td>2</td>\n",
       "      <td>1</td>\n",
       "      <td>1</td>\n",
       "      <td>Cumings, Mrs. John Bradley (Florence Briggs Th...</td>\n",
       "      <td>female</td>\n",
       "      <td>38.0</td>\n",
       "      <td>1</td>\n",
       "      <td>0</td>\n",
       "      <td>PC 17599</td>\n",
       "      <td>71.2833</td>\n",
       "      <td>C85</td>\n",
       "      <td>C</td>\n",
       "    </tr>\n",
       "    <tr>\n",
       "      <th>2</th>\n",
       "      <td>3</td>\n",
       "      <td>1</td>\n",
       "      <td>3</td>\n",
       "      <td>Heikkinen, Miss. Laina</td>\n",
       "      <td>female</td>\n",
       "      <td>26.0</td>\n",
       "      <td>0</td>\n",
       "      <td>0</td>\n",
       "      <td>STON/O2. 3101282</td>\n",
       "      <td>7.9250</td>\n",
       "      <td>NaN</td>\n",
       "      <td>S</td>\n",
       "    </tr>\n",
       "    <tr>\n",
       "      <th>3</th>\n",
       "      <td>4</td>\n",
       "      <td>1</td>\n",
       "      <td>1</td>\n",
       "      <td>Futrelle, Mrs. Jacques Heath (Lily May Peel)</td>\n",
       "      <td>female</td>\n",
       "      <td>35.0</td>\n",
       "      <td>1</td>\n",
       "      <td>0</td>\n",
       "      <td>113803</td>\n",
       "      <td>53.1000</td>\n",
       "      <td>C123</td>\n",
       "      <td>S</td>\n",
       "    </tr>\n",
       "    <tr>\n",
       "      <th>4</th>\n",
       "      <td>5</td>\n",
       "      <td>0</td>\n",
       "      <td>3</td>\n",
       "      <td>Allen, Mr. William Henry</td>\n",
       "      <td>male</td>\n",
       "      <td>35.0</td>\n",
       "      <td>0</td>\n",
       "      <td>0</td>\n",
       "      <td>373450</td>\n",
       "      <td>8.0500</td>\n",
       "      <td>NaN</td>\n",
       "      <td>S</td>\n",
       "    </tr>\n",
       "  </tbody>\n",
       "</table>\n",
       "</div>"
      ],
      "text/plain": [
       "   PassengerId  Survived  Pclass  \\\n",
       "0            1         0       3   \n",
       "1            2         1       1   \n",
       "2            3         1       3   \n",
       "3            4         1       1   \n",
       "4            5         0       3   \n",
       "\n",
       "                                                Name     Sex   Age  SibSp  \\\n",
       "0                            Braund, Mr. Owen Harris    male  22.0      1   \n",
       "1  Cumings, Mrs. John Bradley (Florence Briggs Th...  female  38.0      1   \n",
       "2                             Heikkinen, Miss. Laina  female  26.0      0   \n",
       "3       Futrelle, Mrs. Jacques Heath (Lily May Peel)  female  35.0      1   \n",
       "4                           Allen, Mr. William Henry    male  35.0      0   \n",
       "\n",
       "   Parch            Ticket     Fare Cabin Embarked  \n",
       "0      0         A/5 21171   7.2500   NaN        S  \n",
       "1      0          PC 17599  71.2833   C85        C  \n",
       "2      0  STON/O2. 3101282   7.9250   NaN        S  \n",
       "3      0            113803  53.1000  C123        S  \n",
       "4      0            373450   8.0500   NaN        S  "
      ]
     },
     "execution_count": 3,
     "metadata": {},
     "output_type": "execute_result"
    }
   ],
   "source": [
    "print(\"Training Data:\")\n",
    "train_data.head()"
   ]
  },
  {
   "cell_type": "code",
   "execution_count": 4,
   "id": "7e0a8a33",
   "metadata": {
    "execution": {
     "iopub.execute_input": "2025-05-04T11:03:05.183386Z",
     "iopub.status.busy": "2025-05-04T11:03:05.182982Z",
     "iopub.status.idle": "2025-05-04T11:03:05.204486Z",
     "shell.execute_reply": "2025-05-04T11:03:05.203371Z"
    },
    "papermill": {
     "duration": 0.027731,
     "end_time": "2025-05-04T11:03:05.206274",
     "exception": false,
     "start_time": "2025-05-04T11:03:05.178543",
     "status": "completed"
    },
    "tags": []
   },
   "outputs": [
    {
     "data": {
      "text/html": [
       "<div>\n",
       "<style scoped>\n",
       "    .dataframe tbody tr th:only-of-type {\n",
       "        vertical-align: middle;\n",
       "    }\n",
       "\n",
       "    .dataframe tbody tr th {\n",
       "        vertical-align: top;\n",
       "    }\n",
       "\n",
       "    .dataframe thead th {\n",
       "        text-align: right;\n",
       "    }\n",
       "</style>\n",
       "<table border=\"1\" class=\"dataframe\">\n",
       "  <thead>\n",
       "    <tr style=\"text-align: right;\">\n",
       "      <th></th>\n",
       "      <th>PassengerId</th>\n",
       "      <th>Pclass</th>\n",
       "      <th>Name</th>\n",
       "      <th>Sex</th>\n",
       "      <th>Age</th>\n",
       "      <th>SibSp</th>\n",
       "      <th>Parch</th>\n",
       "      <th>Ticket</th>\n",
       "      <th>Fare</th>\n",
       "      <th>Cabin</th>\n",
       "      <th>Embarked</th>\n",
       "    </tr>\n",
       "  </thead>\n",
       "  <tbody>\n",
       "    <tr>\n",
       "      <th>0</th>\n",
       "      <td>892</td>\n",
       "      <td>3</td>\n",
       "      <td>Kelly, Mr. James</td>\n",
       "      <td>male</td>\n",
       "      <td>34.5</td>\n",
       "      <td>0</td>\n",
       "      <td>0</td>\n",
       "      <td>330911</td>\n",
       "      <td>7.8292</td>\n",
       "      <td>NaN</td>\n",
       "      <td>Q</td>\n",
       "    </tr>\n",
       "    <tr>\n",
       "      <th>1</th>\n",
       "      <td>893</td>\n",
       "      <td>3</td>\n",
       "      <td>Wilkes, Mrs. James (Ellen Needs)</td>\n",
       "      <td>female</td>\n",
       "      <td>47.0</td>\n",
       "      <td>1</td>\n",
       "      <td>0</td>\n",
       "      <td>363272</td>\n",
       "      <td>7.0000</td>\n",
       "      <td>NaN</td>\n",
       "      <td>S</td>\n",
       "    </tr>\n",
       "    <tr>\n",
       "      <th>2</th>\n",
       "      <td>894</td>\n",
       "      <td>2</td>\n",
       "      <td>Myles, Mr. Thomas Francis</td>\n",
       "      <td>male</td>\n",
       "      <td>62.0</td>\n",
       "      <td>0</td>\n",
       "      <td>0</td>\n",
       "      <td>240276</td>\n",
       "      <td>9.6875</td>\n",
       "      <td>NaN</td>\n",
       "      <td>Q</td>\n",
       "    </tr>\n",
       "    <tr>\n",
       "      <th>3</th>\n",
       "      <td>895</td>\n",
       "      <td>3</td>\n",
       "      <td>Wirz, Mr. Albert</td>\n",
       "      <td>male</td>\n",
       "      <td>27.0</td>\n",
       "      <td>0</td>\n",
       "      <td>0</td>\n",
       "      <td>315154</td>\n",
       "      <td>8.6625</td>\n",
       "      <td>NaN</td>\n",
       "      <td>S</td>\n",
       "    </tr>\n",
       "    <tr>\n",
       "      <th>4</th>\n",
       "      <td>896</td>\n",
       "      <td>3</td>\n",
       "      <td>Hirvonen, Mrs. Alexander (Helga E Lindqvist)</td>\n",
       "      <td>female</td>\n",
       "      <td>22.0</td>\n",
       "      <td>1</td>\n",
       "      <td>1</td>\n",
       "      <td>3101298</td>\n",
       "      <td>12.2875</td>\n",
       "      <td>NaN</td>\n",
       "      <td>S</td>\n",
       "    </tr>\n",
       "  </tbody>\n",
       "</table>\n",
       "</div>"
      ],
      "text/plain": [
       "   PassengerId  Pclass                                          Name     Sex  \\\n",
       "0          892       3                              Kelly, Mr. James    male   \n",
       "1          893       3              Wilkes, Mrs. James (Ellen Needs)  female   \n",
       "2          894       2                     Myles, Mr. Thomas Francis    male   \n",
       "3          895       3                              Wirz, Mr. Albert    male   \n",
       "4          896       3  Hirvonen, Mrs. Alexander (Helga E Lindqvist)  female   \n",
       "\n",
       "    Age  SibSp  Parch   Ticket     Fare Cabin Embarked  \n",
       "0  34.5      0      0   330911   7.8292   NaN        Q  \n",
       "1  47.0      1      0   363272   7.0000   NaN        S  \n",
       "2  62.0      0      0   240276   9.6875   NaN        Q  \n",
       "3  27.0      0      0   315154   8.6625   NaN        S  \n",
       "4  22.0      1      1  3101298  12.2875   NaN        S  "
      ]
     },
     "execution_count": 4,
     "metadata": {},
     "output_type": "execute_result"
    }
   ],
   "source": [
    "test_data = pd.read_csv(\"/kaggle/input/titanic/test.csv\")\n",
    "test_data.head()"
   ]
  },
  {
   "cell_type": "code",
   "execution_count": 5,
   "id": "95717356",
   "metadata": {
    "execution": {
     "iopub.execute_input": "2025-05-04T11:03:05.216309Z",
     "iopub.status.busy": "2025-05-04T11:03:05.215939Z",
     "iopub.status.idle": "2025-05-04T11:03:05.228529Z",
     "shell.execute_reply": "2025-05-04T11:03:05.227569Z"
    },
    "papermill": {
     "duration": 0.020125,
     "end_time": "2025-05-04T11:03:05.230158",
     "exception": false,
     "start_time": "2025-05-04T11:03:05.210033",
     "status": "completed"
    },
    "tags": []
   },
   "outputs": [
    {
     "name": "stdout",
     "output_type": "stream",
     "text": [
      "% of women who survived: 0.7420382165605095\n"
     ]
    }
   ],
   "source": [
    "women = train_data.loc[train_data.Sex == 'female'][\"Survived\"]\n",
    "rate_women = sum(women)/len(women)\n",
    "\n",
    "print(\"% of women who survived:\", rate_women)"
   ]
  },
  {
   "cell_type": "code",
   "execution_count": 6,
   "id": "2c198f55",
   "metadata": {
    "execution": {
     "iopub.execute_input": "2025-05-04T11:03:05.238841Z",
     "iopub.status.busy": "2025-05-04T11:03:05.238502Z",
     "iopub.status.idle": "2025-05-04T11:03:05.247215Z",
     "shell.execute_reply": "2025-05-04T11:03:05.246223Z"
    },
    "papermill": {
     "duration": 0.014971,
     "end_time": "2025-05-04T11:03:05.248887",
     "exception": false,
     "start_time": "2025-05-04T11:03:05.233916",
     "status": "completed"
    },
    "tags": []
   },
   "outputs": [
    {
     "name": "stdout",
     "output_type": "stream",
     "text": [
      "% of men who survived: 0.18890814558058924\n"
     ]
    }
   ],
   "source": [
    "men = train_data.loc[train_data.Sex == 'male'][\"Survived\"]\n",
    "rate_men = sum(men)/len(men)\n",
    "\n",
    "print(\"% of men who survived:\", rate_men)"
   ]
  },
  {
   "cell_type": "code",
   "execution_count": 7,
   "id": "f511cf8e",
   "metadata": {
    "execution": {
     "iopub.execute_input": "2025-05-04T11:03:05.257516Z",
     "iopub.status.busy": "2025-05-04T11:03:05.257160Z",
     "iopub.status.idle": "2025-05-04T11:03:05.264854Z",
     "shell.execute_reply": "2025-05-04T11:03:05.263797Z"
    },
    "papermill": {
     "duration": 0.013906,
     "end_time": "2025-05-04T11:03:05.266519",
     "exception": false,
     "start_time": "2025-05-04T11:03:05.252613",
     "status": "completed"
    },
    "tags": []
   },
   "outputs": [
    {
     "name": "stdout",
     "output_type": "stream",
     "text": [
      "% of men who survived: 0.18890814558058924\n"
     ]
    }
   ],
   "source": [
    "men = train_data.loc[train_data.Sex == 'male'][\"Survived\"]\n",
    "rate_men = sum(men)/len(men)\n",
    "\n",
    "print(\"% of men who survived:\", rate_men)"
   ]
  },
  {
   "cell_type": "code",
   "execution_count": 8,
   "id": "8085b699",
   "metadata": {
    "execution": {
     "iopub.execute_input": "2025-05-04T11:03:05.275823Z",
     "iopub.status.busy": "2025-05-04T11:03:05.275521Z",
     "iopub.status.idle": "2025-05-04T11:03:05.285351Z",
     "shell.execute_reply": "2025-05-04T11:03:05.284012Z"
    },
    "papermill": {
     "duration": 0.016299,
     "end_time": "2025-05-04T11:03:05.286867",
     "exception": false,
     "start_time": "2025-05-04T11:03:05.270568",
     "status": "completed"
    },
    "tags": []
   },
   "outputs": [
    {
     "name": "stdout",
     "output_type": "stream",
     "text": [
      "Total male passengers: 577\n",
      "Number of males who survived: 109\n",
      "Male survival probability: 18.89%\n"
     ]
    }
   ],
   "source": [
    "# Count total males\n",
    "total_males = len(train_data[train_data['Sex'] == 'male'])\n",
    "\n",
    "# Count surviving males\n",
    "surviving_males = train_data[(train_data['Sex'] == 'male') & (train_data['Survived'] == 1)].shape[0]\n",
    "\n",
    "# Calculate probability\n",
    "male_survival_probability = surviving_males / total_males\n",
    "\n",
    "# Print the results\n",
    "print(f\"Total male passengers: {total_males}\")\n",
    "print(f\"Number of males who survived: {surviving_males}\")\n",
    "print(f\"Male survival probability: {male_survival_probability:.2%}\")  # Formats as percentage with 2 decimal places"
   ]
  },
  {
   "cell_type": "code",
   "execution_count": 9,
   "id": "a67b72c7",
   "metadata": {
    "execution": {
     "iopub.execute_input": "2025-05-04T11:03:05.296728Z",
     "iopub.status.busy": "2025-05-04T11:03:05.295396Z",
     "iopub.status.idle": "2025-05-04T11:03:05.343024Z",
     "shell.execute_reply": "2025-05-04T11:03:05.341863Z"
    },
    "papermill": {
     "duration": 0.054531,
     "end_time": "2025-05-04T11:03:05.345158",
     "exception": false,
     "start_time": "2025-05-04T11:03:05.290627",
     "status": "completed"
    },
    "tags": []
   },
   "outputs": [
    {
     "name": "stdout",
     "output_type": "stream",
     "text": [
      "Child (<12): 21/37 (56.76%)\n",
      "Teen (12-18): 3/34 (8.82%)\n",
      "Young Adult (18-30): 44/304 (14.47%)\n",
      "Adult (30-50): 35/155 (22.58%)\n",
      "Senior (50+): 6/47 (12.77%)\n"
     ]
    }
   ],
   "source": [
    "import pandas as pd\n",
    "# Load and prepare data\n",
    "train_data = pd.read_csv('/kaggle/input/titanic/train.csv')\n",
    "males = train_data.loc[train_data['Sex'] == 'male'].copy()\n",
    "\n",
    "# Fill missing ages\n",
    "males['Age'] = males['Age'].fillna(males['Age'].median())\n",
    "\n",
    "# Create age groups\n",
    "bins = [0, 12, 18, 30, 50, 100]\n",
    "labels = ['Child (<12)', 'Teen (12-18)', 'Young Adult (18-30)', 'Adult (30-50)', 'Senior (50+)']\n",
    "males['AgeGroup'] = pd.cut(males['Age'], bins=bins, labels=labels)\n",
    "\n",
    "# Analysis (now warning-free)\n",
    "for group in labels:\n",
    "    group_data = males[males['AgeGroup'] == group]\n",
    "    total = len(group_data)\n",
    "    survived = sum(group_data['Survived'])\n",
    "    print(f\"{group}: {survived}/{total} ({survived/total:.2%})\")"
   ]
  },
  {
   "cell_type": "code",
   "execution_count": 10,
   "id": "aa9bb6d0",
   "metadata": {
    "execution": {
     "iopub.execute_input": "2025-05-04T11:03:05.354027Z",
     "iopub.status.busy": "2025-05-04T11:03:05.353719Z",
     "iopub.status.idle": "2025-05-04T11:03:05.541716Z",
     "shell.execute_reply": "2025-05-04T11:03:05.540526Z"
    },
    "papermill": {
     "duration": 0.194536,
     "end_time": "2025-05-04T11:03:05.543583",
     "exception": false,
     "start_time": "2025-05-04T11:03:05.349047",
     "status": "completed"
    },
    "tags": []
   },
   "outputs": [
    {
     "name": "stdout",
     "output_type": "stream",
     "text": [
      "Your submission was successfully saved!\n"
     ]
    }
   ],
   "source": [
    "# Step 1: Choose features and target\n",
    "features = [\"Pclass\", \"Sex\", \"SibSp\", \"Parch\"]\n",
    "X = pd.get_dummies(train_data[features])   # Convert categorical data to numbers\n",
    "y = train_data[\"Survived\"]\n",
    "\n",
    "X_test = pd.get_dummies(test_data[features])\n",
    "\n",
    "# Step 2: Create and train the model\n",
    "model = RandomForestClassifier(n_estimators=100, max_depth=5, random_state=1)\n",
    "model.fit(X, y)\n",
    "\n",
    "# Step 3: Make predictions\n",
    "predictions = model.predict(X_test)\n",
    "\n",
    "# Step 4: Save predictions in correct format for submission\n",
    "output = pd.DataFrame({\n",
    "    \"PassengerId\": test_data[\"PassengerId\"],\n",
    "    \"Survived\": predictions\n",
    "})\n",
    "output.to_csv(\"submission.csv\", index=False)\n",
    "\n",
    "print(\"Your submission was successfully saved!\")"
   ]
  },
  {
   "cell_type": "code",
   "execution_count": null,
   "id": "07498710",
   "metadata": {
    "papermill": {
     "duration": 0.003468,
     "end_time": "2025-05-04T11:03:05.551040",
     "exception": false,
     "start_time": "2025-05-04T11:03:05.547572",
     "status": "completed"
    },
    "tags": []
   },
   "outputs": [],
   "source": []
  },
  {
   "cell_type": "code",
   "execution_count": null,
   "id": "f3364904",
   "metadata": {
    "papermill": {
     "duration": 0.00358,
     "end_time": "2025-05-04T11:03:05.558979",
     "exception": false,
     "start_time": "2025-05-04T11:03:05.555399",
     "status": "completed"
    },
    "tags": []
   },
   "outputs": [],
   "source": []
  },
  {
   "cell_type": "code",
   "execution_count": null,
   "id": "8c494620",
   "metadata": {
    "papermill": {
     "duration": 0.004057,
     "end_time": "2025-05-04T11:03:05.566719",
     "exception": false,
     "start_time": "2025-05-04T11:03:05.562662",
     "status": "completed"
    },
    "tags": []
   },
   "outputs": [],
   "source": []
  },
  {
   "cell_type": "code",
   "execution_count": null,
   "id": "c9379eaf",
   "metadata": {
    "papermill": {
     "duration": 0.003509,
     "end_time": "2025-05-04T11:03:05.574433",
     "exception": false,
     "start_time": "2025-05-04T11:03:05.570924",
     "status": "completed"
    },
    "tags": []
   },
   "outputs": [],
   "source": []
  }
 ],
 "metadata": {
  "kaggle": {
   "accelerator": "none",
   "dataSources": [
    {
     "databundleVersionId": 26502,
     "sourceId": 3136,
     "sourceType": "competition"
    }
   ],
   "dockerImageVersionId": 31012,
   "isGpuEnabled": false,
   "isInternetEnabled": true,
   "language": "python",
   "sourceType": "notebook"
  },
  "kernelspec": {
   "display_name": "Python 3",
   "language": "python",
   "name": "python3"
  },
  "language_info": {
   "codemirror_mode": {
    "name": "ipython",
    "version": 3
   },
   "file_extension": ".py",
   "mimetype": "text/x-python",
   "name": "python",
   "nbconvert_exporter": "python",
   "pygments_lexer": "ipython3",
   "version": "3.11.11"
  },
  "papermill": {
   "default_parameters": {},
   "duration": 10.761346,
   "end_time": "2025-05-04T11:03:06.299388",
   "environment_variables": {},
   "exception": null,
   "input_path": "__notebook__.ipynb",
   "output_path": "__notebook__.ipynb",
   "parameters": {},
   "start_time": "2025-05-04T11:02:55.538042",
   "version": "2.6.0"
  }
 },
 "nbformat": 4,
 "nbformat_minor": 5
}
